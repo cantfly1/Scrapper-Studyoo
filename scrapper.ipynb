{
 "cells": [
  {
   "cell_type": "code",
   "execution_count": 1,
   "metadata": {},
   "outputs": [
    {
     "name": "stdout",
     "output_type": "stream",
     "text": [
      "Duckduckgo search: Raph laurent X Fortnite\n"
     ]
    },
    {
     "data": {
      "text/plain": [
       "[WindowsPath('c:/Users/iroum/Documents/GitHub/Scrapper-Studyoo/images/Raph laurent X Fortnite/001_97a7d548.jpg'),\n",
       " WindowsPath('c:/Users/iroum/Documents/GitHub/Scrapper-Studyoo/images/Raph laurent X Fortnite/002_6f7bbadb.jpg'),\n",
       " WindowsPath('c:/Users/iroum/Documents/GitHub/Scrapper-Studyoo/images/Raph laurent X Fortnite/003_81ea4d81.jpg'),\n",
       " WindowsPath('c:/Users/iroum/Documents/GitHub/Scrapper-Studyoo/images/Raph laurent X Fortnite/004_d1b0b34c.jpg'),\n",
       " WindowsPath('c:/Users/iroum/Documents/GitHub/Scrapper-Studyoo/images/Raph laurent X Fortnite/005_65ccc692.jpg'),\n",
       " WindowsPath('c:/Users/iroum/Documents/GitHub/Scrapper-Studyoo/images/Raph laurent X Fortnite/006_14c41008.jpg'),\n",
       " WindowsPath('c:/Users/iroum/Documents/GitHub/Scrapper-Studyoo/images/Raph laurent X Fortnite/007_23dae6bc.jpg'),\n",
       " WindowsPath('c:/Users/iroum/Documents/GitHub/Scrapper-Studyoo/images/Raph laurent X Fortnite/008_8877a431.jpg'),\n",
       " WindowsPath('c:/Users/iroum/Documents/GitHub/Scrapper-Studyoo/images/Raph laurent X Fortnite/009_26e6651e.jpg'),\n",
       " WindowsPath('c:/Users/iroum/Documents/GitHub/Scrapper-Studyoo/images/Raph laurent X Fortnite/010_35f1ef0a.jpg')]"
      ]
     },
     "execution_count": 1,
     "metadata": {},
     "output_type": "execute_result"
    }
   ],
   "source": [
    "from pathlib import Path\n",
    "root = Path().cwd()/\"images\"\n",
    "\n",
    "from jmd_imagescraper.core import * # dont't worry, it's designed to work with import *\n",
    "\n",
    "duckduckgo_search(root, \"Raph laurent X Fortnite\", \"Raph laurent X Fortnite\", max_results=10)"
   ]
  },
  {
   "cell_type": "code",
   "execution_count": 2,
   "metadata": {},
   "outputs": [
    {
     "data": {
      "application/vnd.jupyter.widget-view+json": {
       "model_id": "3102e37bf06d438189c929236fe1cc8e",
       "version_major": 2,
       "version_minor": 0
      },
      "text/plain": [
       "HBox(children=(Button(description='|<<', layout=Layout(width='60px'), style=ButtonStyle()), Button(description…"
      ]
     },
     "metadata": {},
     "output_type": "display_data"
    },
    {
     "data": {
      "application/vnd.jupyter.widget-view+json": {
       "model_id": "5b0d6342056c4bb2aad130ecd7d62abb",
       "version_major": 2,
       "version_minor": 0
      },
      "text/plain": [
       "HTML(value='<h2>No images left to display in this folder.</h2>', layout=Layout(visibility='hidden'))"
      ]
     },
     "metadata": {},
     "output_type": "display_data"
    },
    {
     "data": {
      "application/vnd.jupyter.widget-view+json": {
       "model_id": "7671e7d689e24015b4e6a8ecd76dba12",
       "version_major": 2,
       "version_minor": 0
      },
      "text/plain": [
       "GridBox(children=(VBox(children=(Image(value=b'', layout=\"Layout(width='150px')\"), Button(description='Delete'…"
      ]
     },
     "metadata": {},
     "output_type": "display_data"
    }
   ],
   "source": [
    "from jmd_imagescraper.imagecleaner import *\n",
    "\n",
    "display_image_cleaner(root)"
   ]
  },
  {
   "cell_type": "code",
   "execution_count": 2,
   "metadata": {},
   "outputs": [],
   "source": [
    "from pydrive.auth import GoogleAuth\n",
    "from pydrive.drive import GoogleDrive\n",
    "gauth = GoogleAuth()           \n",
    "drive = GoogleDrive(gauth)  \n"
   ]
  },
  {
   "attachments": {},
   "cell_type": "markdown",
   "metadata": {},
   "source": [
    "(#create a new folder name collab\n",
    "folder_name = 'collab'\n",
    "folder = drive.CreateFile({'title': folder_name,\n",
    "                            'mimeType': 'application/vnd.google-apps.folder'})\n",
    "folder.Upload())"
   ]
  },
  {
   "cell_type": "code",
   "execution_count": 3,
   "metadata": {},
   "outputs": [
    {
     "name": "stdout",
     "output_type": "stream",
     "text": [
      "C:\\Users\\iroum\\Documents\\GitHub\\Scrapper-Studyoo\\images\\Raph laurent X Fortnite\n",
      "C:\\Users\\iroum\\Documents\\GitHub\\Scrapper-Studyoo\\images\\Raph laurent X Fortnite\\001_97a7d548.jpg\n",
      "Your browser has been opened to visit:\n",
      "\n",
      "    https://accounts.google.com/o/oauth2/auth?client_id=959514260383-jn1iqtdujs15vuuc0dljgi6q4l5k1bl4.apps.googleusercontent.com&redirect_uri=http%3A%2F%2Flocalhost%3A8080%2F&scope=https%3A%2F%2Fwww.googleapis.com%2Fauth%2Fdrive&access_type=offline&response_type=code\n",
      "\n",
      "Authentication successful.\n",
      "Created file C:\\Users\\iroum\\Documents\\GitHub\\Scrapper-Studyoo\\images\\Raph laurent X Fortnite\\001_97a7d548.jpg with mimeType image/jpeg\n",
      "C:\\Users\\iroum\\Documents\\GitHub\\Scrapper-Studyoo\\images\\Raph laurent X Fortnite\\002_6f7bbadb.jpg\n",
      "Created file C:\\Users\\iroum\\Documents\\GitHub\\Scrapper-Studyoo\\images\\Raph laurent X Fortnite\\002_6f7bbadb.jpg with mimeType image/jpeg\n",
      "C:\\Users\\iroum\\Documents\\GitHub\\Scrapper-Studyoo\\images\\Raph laurent X Fortnite\\003_81ea4d81.jpg\n",
      "Created file C:\\Users\\iroum\\Documents\\GitHub\\Scrapper-Studyoo\\images\\Raph laurent X Fortnite\\003_81ea4d81.jpg with mimeType image/jpeg\n",
      "C:\\Users\\iroum\\Documents\\GitHub\\Scrapper-Studyoo\\images\\Raph laurent X Fortnite\\004_d1b0b34c.jpg\n",
      "Created file C:\\Users\\iroum\\Documents\\GitHub\\Scrapper-Studyoo\\images\\Raph laurent X Fortnite\\004_d1b0b34c.jpg with mimeType image/jpeg\n"
     ]
    }
   ],
   "source": [
    "#read all folder in images folder\n",
    "from pathlib import Path\n",
    "\n",
    "root = Path(r\"C:\\Users\\iroum\\Documents\\GitHub\\Scrapper-Studyoo\\images\")\n",
    "for x in root.iterdir():\n",
    "    if x.is_dir():\n",
    "        print(x)\n",
    "        #create folder in google drive\n",
    "    \n",
    "        #upload all file in folder\n",
    "        for y in x.iterdir():\n",
    "            if y.is_file():\n",
    "                print(y)\n",
    "                #folder id 1L6c_YP_6khpJ7llLoCchSSl8u-BT2y5E\n",
    "                file = drive.CreateFile({\"parents\": [{\"kind\": \"drive#fileLink\",\"id\": \n",
    "                                                      \"1L6c_YP_6khpJ7llLoCchSSl8u-BT2y5E\"}]})\n",
    "                file.SetContentFile(str(y))\n",
    "                file.Upload()\n",
    "                print('Created file %s with mimeType %s' % (file['title'], file['mimeType']))\n"
   ]
  }
 ],
 "metadata": {
  "kernelspec": {
   "display_name": "Python 3",
   "language": "python",
   "name": "python3"
  },
  "language_info": {
   "codemirror_mode": {
    "name": "ipython",
    "version": 3
   },
   "file_extension": ".py",
   "mimetype": "text/x-python",
   "name": "python",
   "nbconvert_exporter": "python",
   "pygments_lexer": "ipython3",
   "version": "3.10.7"
  },
  "orig_nbformat": 4
 },
 "nbformat": 4,
 "nbformat_minor": 2
}
