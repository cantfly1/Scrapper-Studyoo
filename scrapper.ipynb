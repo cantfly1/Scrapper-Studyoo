{
 "cells": [
  {
   "cell_type": "code",
   "execution_count": 15,
   "metadata": {},
   "outputs": [
    {
     "name": "stdout",
     "output_type": "stream",
     "text": [
      "Duckduckgo search:  X \n",
      "Downloading results into C:\\Users\\iroum\\Documents\\GitHub\\Scrapper-Studyoo\\images\\images\\ X \n"
     ]
    },
    {
     "ename": "FileNotFoundError",
     "evalue": "[WinError 3] Le chemin d’accès spécifié est introuvable: 'C:\\\\Users\\\\iroum\\\\Documents\\\\GitHub\\\\Scrapper-Studyoo\\\\images\\\\images\\\\ X '",
     "output_type": "error",
     "traceback": [
      "\u001b[1;31m---------------------------------------------------------------------------\u001b[0m",
      "\u001b[1;31mFileNotFoundError\u001b[0m                         Traceback (most recent call last)",
      "\u001b[1;32mc:\\Users\\iroum\\Documents\\GitHub\\Scrapper-Studyoo\\scrapper.ipynb Cell 1\u001b[0m in \u001b[0;36m8\n\u001b[0;32m      <a href='vscode-notebook-cell:/c%3A/Users/iroum/Documents/GitHub/Scrapper-Studyoo/scrapper.ipynb#W0sZmlsZQ%3D%3D?line=4'>5</a>\u001b[0m entr_1 \u001b[39m=\u001b[39m \u001b[39minput\u001b[39m(\u001b[39m\"\u001b[39m\u001b[39mpremiere entreprise\u001b[39m\u001b[39m\"\u001b[39m)\n\u001b[0;32m      <a href='vscode-notebook-cell:/c%3A/Users/iroum/Documents/GitHub/Scrapper-Studyoo/scrapper.ipynb#W0sZmlsZQ%3D%3D?line=5'>6</a>\u001b[0m entr_2 \u001b[39m=\u001b[39m \u001b[39minput\u001b[39m(\u001b[39m\"\u001b[39m\u001b[39mdeuxieme entreprise\u001b[39m\u001b[39m\"\u001b[39m)\n\u001b[1;32m----> <a href='vscode-notebook-cell:/c%3A/Users/iroum/Documents/GitHub/Scrapper-Studyoo/scrapper.ipynb#W0sZmlsZQ%3D%3D?line=7'>8</a>\u001b[0m duckduckgo_search(root, \u001b[39mf\u001b[39m\u001b[39m'\u001b[39m\u001b[39m{\u001b[39;00mentr_1\u001b[39m}\u001b[39;00m\u001b[39m X \u001b[39m\u001b[39m{\u001b[39;00mentr_2\u001b[39m}\u001b[39;00m\u001b[39m'\u001b[39m, \u001b[39mf\u001b[39m\u001b[39m'\u001b[39m\u001b[39m{\u001b[39;00mentr_1\u001b[39m}\u001b[39;00m\u001b[39m X \u001b[39m\u001b[39m{\u001b[39;00mentr_2\u001b[39m}\u001b[39;00m\u001b[39m'\u001b[39m, max_results\u001b[39m=\u001b[39m\u001b[39m10\u001b[39m)\n",
      "File \u001b[1;32mc:\\Users\\iroum\\AppData\\Local\\Programs\\Python\\Python310\\lib\\site-packages\\jmd_imagescraper\\core.py:212\u001b[0m, in \u001b[0;36mduckduckgo_search\u001b[1;34m(path, label, keywords, max_results, img_size, img_type, img_layout, img_color, uuid_names)\u001b[0m\n\u001b[0;32m    210\u001b[0m \u001b[39mprint\u001b[39m(\u001b[39m\"\u001b[39m\u001b[39mDuckduckgo search:\u001b[39m\u001b[39m\"\u001b[39m, keywords)\n\u001b[0;32m    211\u001b[0m links \u001b[39m=\u001b[39m duckduckgo_scrape_urls(keywords, max_results, img_size, img_type, img_layout, img_color)\n\u001b[1;32m--> 212\u001b[0m \u001b[39mreturn\u001b[39;00m download_urls(Path(path)\u001b[39m/\u001b[39;49mlabel, links, uuid_names\u001b[39m=\u001b[39;49muuid_names)\n",
      "File \u001b[1;32mc:\\Users\\iroum\\AppData\\Local\\Programs\\Python\\Python310\\lib\\site-packages\\jmd_imagescraper\\core.py:174\u001b[0m, in \u001b[0;36mdownload_urls\u001b[1;34m(path, links, uuid_names)\u001b[0m\n\u001b[0;32m    171\u001b[0m mk_fp \u001b[39m=\u001b[39m \u001b[39mlambda\u001b[39;00m x: path\u001b[39m/\u001b[39m(\u001b[39mstr\u001b[39m(x)\u001b[39m.\u001b[39mzfill(\u001b[39m3\u001b[39m) \u001b[39m+\u001b[39m mk_uniq() \u001b[39m+\u001b[39m \u001b[39m\"\u001b[39m\u001b[39m.jpg\u001b[39m\u001b[39m\"\u001b[39m)\n\u001b[0;32m    172\u001b[0m is_file \u001b[39m=\u001b[39m \u001b[39mlambda\u001b[39;00m x: \u001b[39mlen\u001b[39m(\u001b[39mlist\u001b[39m(path\u001b[39m.\u001b[39mglob(\u001b[39mstr\u001b[39m(x)\u001b[39m.\u001b[39mzfill(\u001b[39m3\u001b[39m) \u001b[39m+\u001b[39m \u001b[39m'\u001b[39m\u001b[39m*.jpg\u001b[39m\u001b[39m'\u001b[39m))) \u001b[39m>\u001b[39m \u001b[39m0\u001b[39m\n\u001b[1;32m--> 174\u001b[0m \u001b[39mwhile\u001b[39;00m is_file(i): i \u001b[39m+\u001b[39m\u001b[39m=\u001b[39m \u001b[39m1\u001b[39m \u001b[39m# don't overwrite previous searches\u001b[39;00m\n\u001b[0;32m    176\u001b[0m results \u001b[39m=\u001b[39m []\n\u001b[0;32m    178\u001b[0m \u001b[39mfor\u001b[39;00m link \u001b[39min\u001b[39;00m pbar:\n",
      "File \u001b[1;32mc:\\Users\\iroum\\AppData\\Local\\Programs\\Python\\Python310\\lib\\site-packages\\jmd_imagescraper\\core.py:172\u001b[0m, in \u001b[0;36mdownload_urls.<locals>.<lambda>\u001b[1;34m(x)\u001b[0m\n\u001b[0;32m    170\u001b[0m mk_uniq \u001b[39m=\u001b[39m \u001b[39mlambda\u001b[39;00m : \u001b[39m'\u001b[39m\u001b[39m_\u001b[39m\u001b[39m'\u001b[39m \u001b[39m+\u001b[39m \u001b[39mstr\u001b[39m(uuid\u001b[39m.\u001b[39muuid4())[:\u001b[39m8\u001b[39m] \u001b[39mif\u001b[39;00m uuid_names \u001b[39melse\u001b[39;00m \u001b[39m'\u001b[39m\u001b[39m'\u001b[39m\n\u001b[0;32m    171\u001b[0m mk_fp \u001b[39m=\u001b[39m \u001b[39mlambda\u001b[39;00m x: path\u001b[39m/\u001b[39m(\u001b[39mstr\u001b[39m(x)\u001b[39m.\u001b[39mzfill(\u001b[39m3\u001b[39m) \u001b[39m+\u001b[39m mk_uniq() \u001b[39m+\u001b[39m \u001b[39m\"\u001b[39m\u001b[39m.jpg\u001b[39m\u001b[39m\"\u001b[39m)\n\u001b[1;32m--> 172\u001b[0m is_file \u001b[39m=\u001b[39m \u001b[39mlambda\u001b[39;00m x: \u001b[39mlen\u001b[39m(\u001b[39mlist\u001b[39;49m(path\u001b[39m.\u001b[39;49mglob(\u001b[39mstr\u001b[39;49m(x)\u001b[39m.\u001b[39;49mzfill(\u001b[39m3\u001b[39;49m) \u001b[39m+\u001b[39;49m \u001b[39m'\u001b[39;49m\u001b[39m*.jpg\u001b[39;49m\u001b[39m'\u001b[39;49m))) \u001b[39m>\u001b[39m \u001b[39m0\u001b[39m\n\u001b[0;32m    174\u001b[0m \u001b[39mwhile\u001b[39;00m is_file(i): i \u001b[39m+\u001b[39m\u001b[39m=\u001b[39m \u001b[39m1\u001b[39m \u001b[39m# don't overwrite previous searches\u001b[39;00m\n\u001b[0;32m    176\u001b[0m results \u001b[39m=\u001b[39m []\n",
      "File \u001b[1;32mc:\\Users\\iroum\\AppData\\Local\\Programs\\Python\\Python310\\lib\\pathlib.py:1034\u001b[0m, in \u001b[0;36mPath.glob\u001b[1;34m(self, pattern)\u001b[0m\n\u001b[0;32m   1032\u001b[0m     \u001b[39mraise\u001b[39;00m \u001b[39mNotImplementedError\u001b[39;00m(\u001b[39m\"\u001b[39m\u001b[39mNon-relative patterns are unsupported\u001b[39m\u001b[39m\"\u001b[39m)\n\u001b[0;32m   1033\u001b[0m selector \u001b[39m=\u001b[39m _make_selector(\u001b[39mtuple\u001b[39m(pattern_parts), \u001b[39mself\u001b[39m\u001b[39m.\u001b[39m_flavour)\n\u001b[1;32m-> 1034\u001b[0m \u001b[39mfor\u001b[39;00m p \u001b[39min\u001b[39;00m selector\u001b[39m.\u001b[39mselect_from(\u001b[39mself\u001b[39m):\n\u001b[0;32m   1035\u001b[0m     \u001b[39myield\u001b[39;00m p\n",
      "File \u001b[1;32mc:\\Users\\iroum\\AppData\\Local\\Programs\\Python\\Python310\\lib\\pathlib.py:440\u001b[0m, in \u001b[0;36m_WildcardSelector._select_from\u001b[1;34m(self, parent_path, is_dir, exists, scandir)\u001b[0m\n\u001b[0;32m    438\u001b[0m \u001b[39mdef\u001b[39;00m \u001b[39m_select_from\u001b[39m(\u001b[39mself\u001b[39m, parent_path, is_dir, exists, scandir):\n\u001b[0;32m    439\u001b[0m     \u001b[39mtry\u001b[39;00m:\n\u001b[1;32m--> 440\u001b[0m         \u001b[39mwith\u001b[39;00m scandir(parent_path) \u001b[39mas\u001b[39;00m scandir_it:\n\u001b[0;32m    441\u001b[0m             entries \u001b[39m=\u001b[39m \u001b[39mlist\u001b[39m(scandir_it)\n\u001b[0;32m    442\u001b[0m         \u001b[39mfor\u001b[39;00m entry \u001b[39min\u001b[39;00m entries:\n",
      "\u001b[1;31mFileNotFoundError\u001b[0m: [WinError 3] Le chemin d’accès spécifié est introuvable: 'C:\\\\Users\\\\iroum\\\\Documents\\\\GitHub\\\\Scrapper-Studyoo\\\\images\\\\images\\\\ X '"
     ]
    }
   ],
   "source": [
    "from pathlib import Path\n",
    "root = Path().cwd()/\"images\"\n",
    "\n",
    "from jmd_imagescraper.core import * # dont't worry, it's designed to work with import *\n",
    "entr_1 = input(\"premiere entreprise\")\n",
    "entr_2 = input(\"deuxieme entreprise\")\n",
    "\n",
    "duckduckgo_search(root, f'{entr_1} X {entr_2}', f'{entr_1} X {entr_2}', max_results=10)"
   ]
  },
  {
   "cell_type": "code",
   "execution_count": null,
   "metadata": {},
   "outputs": [
    {
     "data": {
      "application/vnd.jupyter.widget-view+json": {
       "model_id": "3102e37bf06d438189c929236fe1cc8e",
       "version_major": 2,
       "version_minor": 0
      },
      "text/plain": [
       "HBox(children=(Button(description='|<<', layout=Layout(width='60px'), style=ButtonStyle()), Button(description…"
      ]
     },
     "metadata": {},
     "output_type": "display_data"
    },
    {
     "data": {
      "application/vnd.jupyter.widget-view+json": {
       "model_id": "5b0d6342056c4bb2aad130ecd7d62abb",
       "version_major": 2,
       "version_minor": 0
      },
      "text/plain": [
       "HTML(value='<h2>No images left to display in this folder.</h2>', layout=Layout(visibility='hidden'))"
      ]
     },
     "metadata": {},
     "output_type": "display_data"
    },
    {
     "data": {
      "application/vnd.jupyter.widget-view+json": {
       "model_id": "7671e7d689e24015b4e6a8ecd76dba12",
       "version_major": 2,
       "version_minor": 0
      },
      "text/plain": [
       "GridBox(children=(VBox(children=(Image(value=b'', layout=\"Layout(width='150px')\"), Button(description='Delete'…"
      ]
     },
     "metadata": {},
     "output_type": "display_data"
    }
   ],
   "source": [
    "\"\"\"from jmd_imagescraper.imagecleaner import *\n",
    "\n",
    "display_image_cleaner(root)\"\"\""
   ]
  },
  {
   "cell_type": "code",
   "execution_count": null,
   "metadata": {},
   "outputs": [
    {
     "name": "stdout",
     "output_type": "stream",
     "text": [
      "{'result': [{'type': 'video', 'id': 's86RvXtXCKU', 'title': '🔥 UNE MAP DE FOU SUR FORTNITE ! (Babybel Reloaded)', 'publishedTime': '1 year ago', 'duration': '31:55', 'viewCount': {'text': '28,700 views', 'short': '28K views'}, 'thumbnails': [{'url': 'https://i.ytimg.com/vi/s86RvXtXCKU/hq720.jpg?sqp=-oaymwEcCOgCEMoBSFXyq4qpAw4IARUAAIhCGAFwAcABBg==&rs=AOn4CLCw02y-Xz0PVA5oEhjF3-_Mzau1kQ', 'width': 360, 'height': 202}, {'url': 'https://i.ytimg.com/vi/s86RvXtXCKU/hq720.jpg?sqp=-oaymwEcCNAFEJQDSFXyq4qpAw4IARUAAIhCGAFwAcABBg==&rs=AOn4CLDCqE3k3ntfq9w09BsF_wsUB-DBGg', 'width': 720, 'height': 404}], 'richThumbnail': {'url': 'https://i.ytimg.com/an_webp/s86RvXtXCKU/mqdefault_6s.webp?du=3000&sqp=CKOT7qIG&rs=AOn4CLByvhfqQ6tjnednvAOZbbE3TKg8MA', 'width': 320, 'height': 180}, 'descriptionSnippet': [{'text': 'CODE MAP : 0766-8855-0626 → Ma chaîne replay : http://bit.ly/DoigbyTV Merci à Pixyn pour le montage ! → Pour toutes\\xa0...'}], 'channel': {'name': 'Doigby', 'id': 'UCen9TDD6K1ZVW44unAGxtOw', 'thumbnails': [{'url': 'https://yt3.ggpht.com/ovG1r-Ahv2Zx6_kOB5Mxm1LATzUq6y3kvICdLACjzxjU4NwMAZnWK5sA6I3O-saijWKuBZEjIg=s68-c-k-c0x00ffffff-no-rj', 'width': 68, 'height': 68}], 'link': 'https://www.youtube.com/channel/UCen9TDD6K1ZVW44unAGxtOw'}, 'accessibility': {'title': '🔥 UNE MAP DE FOU SUR FORTNITE ! (Babybel Reloaded) by Doigby 1 year ago 31 minutes 28,700 views', 'duration': '31 minutes, 55 seconds'}, 'link': 'https://www.youtube.com/watch?v=s86RvXtXCKU', 'shelfTitle': None}, {'type': 'video', 'id': 'rjk0tPq4vJQ', 'title': 'Babybel Reloaded crée dans Fortnite - Nouvelle map', 'publishedTime': '1 year ago', 'duration': '0:06', 'viewCount': {'text': '1,833 views', 'short': '1.8K views'}, 'thumbnails': [{'url': 'https://i.ytimg.com/vi/rjk0tPq4vJQ/hqdefault.jpg?sqp=-oaymwE2COADEI4CSFXyq4qpAygIARUAAIhCGAFwAcABBvABAfgB_gmAAtAFigIMCAAQARg6IGUoDzAP&rs=AOn4CLCw6PzgsAr6tR3dpCiMb8x_yH5qFA', 'width': 480, 'height': 270}], 'richThumbnail': None, 'descriptionSnippet': [{'text': 'Rejoignons les forces du bon dans '}, {'text': 'Babybel', 'bold': True}, {'text': ' Reloaded® créé dans '}, {'text': 'Fortnite', 'bold': True}, {'text': '® RENDEZ-VOUS LE 9 MARS À 19H SUR www.'}], 'channel': {'name': 'Babybel France', 'id': 'UCzMG1u8sARIQCVCzGLpziAA', 'thumbnails': [{'url': 'https://yt3.ggpht.com/ytc/AGIKgqOLnoag3Yq3h2_eWfOSmBNJ-zATksg_SfWFnaD9-A=s68-c-k-c0x00ffffff-no-rj', 'width': 68, 'height': 68}], 'link': 'https://www.youtube.com/channel/UCzMG1u8sARIQCVCzGLpziAA'}, 'accessibility': {'title': 'Babybel Reloaded crée dans Fortnite - Nouvelle map by Babybel France 1 year ago 6 seconds 1,833 views', 'duration': '6 seconds'}, 'link': 'https://www.youtube.com/watch?v=rjk0tPq4vJQ', 'shelfTitle': None}]}\n",
      "['https://www.youtube.com/watch?v=s86RvXtXCKU', 'https://www.youtube.com/watch?v=rjk0tPq4vJQ']\n"
     ]
    }
   ],
   "source": [
    "from youtubesearchpython import VideosSearch\n",
    "\n",
    "videosSearch = VideosSearch(f'{entr_1} X {entr_2}', limit = 2)\n",
    "\n",
    "print(videosSearch.result())\n",
    "#extract url list\n",
    "url_list = []\n",
    "for i in range(0, len(videosSearch.result()[\"result\"])):\n",
    "    url_list.append(videosSearch.result()[\"result\"][i][\"link\"])\n",
    "print(url_list)"
   ]
  },
  {
   "cell_type": "code",
   "execution_count": null,
   "metadata": {},
   "outputs": [
    {
     "name": "stdout",
     "output_type": "stream",
     "text": [
      "C:\\Users\\iroum\\Documents\\GitHub\\Scrapper-Studyoo\\images\\babybel X fortnite\n",
      "['001_2344a98c.jpg', '002_ffdba8ec.jpg', '003_a08873e4.jpg', '004_7da714f5.jpg', '005_2cd0260c.jpg', '006_c65d3ca2.jpg', '007_a955e8fd.jpg', '008_2a18614b.jpg', '009_511357cd.jpg', '010_962e6d01.jpg', 'url_list.txt']\n",
      "['https://www.youtube.com/watch?v=s86RvXtXCKU', 'https://www.youtube.com/watch?v=rjk0tPq4vJQ']\n",
      "url_list.txt created\n",
      "C:\\Users\\iroum\\Documents\\GitHub\\Scrapper-Studyoo\\images\n",
      "['babybel X fortnite', 'Raph laurent X Fortnite']\n",
      "back to root\n"
     ]
    }
   ],
   "source": [
    "#save url list in txt the f'{entr_1} X {entr_2}' folder in image\n",
    "#read all folder in images folder\n",
    "from pathlib import Path\n",
    "\n",
    "root = Path(r\"C:\\Users\\iroum\\Documents\\GitHub\\Scrapper-Studyoo\\images\")\n",
    "\n",
    "\n",
    "#save url list in txt the f'{entr_1} X {entr_2}' folder in image\n",
    "import os\n",
    "import shutil\n",
    "\n",
    "for x in root.iterdir():\n",
    "    if x.name == f'{entr_1} X {entr_2}':\n",
    "        os.chdir(x)\n",
    "        with open('url_list.txt', 'w') as f:\n",
    "            for item in url_list:\n",
    "                f.write(\"%s\\n\" % item)\n",
    "        print(os.getcwd())\n",
    "        print(os.listdir())\n",
    "        print(url_list)\n",
    "        print(\"url_list.txt created\")\n",
    "        os.chdir(r\"C:\\Users\\iroum\\Documents\\GitHub\\Scrapper-Studyoo\\images\")\n",
    "        print(os.getcwd())\n",
    "        print(os.listdir())\n",
    "        print(\"back to root\")\n",
    "        break"
   ]
  },
  {
   "cell_type": "code",
   "execution_count": null,
   "metadata": {},
   "outputs": [],
   "source": [
    "from pydrive.auth import GoogleAuth\n",
    "from pydrive.drive import GoogleDrive\n",
    "gauth = GoogleAuth()           \n",
    "drive = GoogleDrive(gauth)  \n"
   ]
  },
  {
   "attachments": {},
   "cell_type": "markdown",
   "metadata": {},
   "source": [
    "(#create a new folder name collab\n",
    "folder_name = 'collab'\n",
    "folder = drive.CreateFile({'title': folder_name,\n",
    "                            'mimeType': 'application/vnd.google-apps.folder'})\n",
    "folder.Upload())"
   ]
  },
  {
   "cell_type": "code",
   "execution_count": null,
   "metadata": {},
   "outputs": [
    {
     "name": "stdout",
     "output_type": "stream",
     "text": [
      "C:\\Users\\iroum\\Documents\\GitHub\\Scrapper-Studyoo\\images\\Raph laurent X Fortnite\n",
      "C:\\Users\\iroum\\Documents\\GitHub\\Scrapper-Studyoo\\images\\Raph laurent X Fortnite\\001_97a7d548.jpg\n",
      "Your browser has been opened to visit:\n",
      "\n",
      "    https://accounts.google.com/o/oauth2/auth?client_id=959514260383-jn1iqtdujs15vuuc0dljgi6q4l5k1bl4.apps.googleusercontent.com&redirect_uri=http%3A%2F%2Flocalhost%3A8080%2F&scope=https%3A%2F%2Fwww.googleapis.com%2Fauth%2Fdrive&access_type=offline&response_type=code\n",
      "\n",
      "Authentication successful.\n",
      "Created file C:\\Users\\iroum\\Documents\\GitHub\\Scrapper-Studyoo\\images\\Raph laurent X Fortnite\\001_97a7d548.jpg with mimeType image/jpeg\n",
      "C:\\Users\\iroum\\Documents\\GitHub\\Scrapper-Studyoo\\images\\Raph laurent X Fortnite\\002_6f7bbadb.jpg\n",
      "Created file C:\\Users\\iroum\\Documents\\GitHub\\Scrapper-Studyoo\\images\\Raph laurent X Fortnite\\002_6f7bbadb.jpg with mimeType image/jpeg\n",
      "C:\\Users\\iroum\\Documents\\GitHub\\Scrapper-Studyoo\\images\\Raph laurent X Fortnite\\003_81ea4d81.jpg\n",
      "Created file C:\\Users\\iroum\\Documents\\GitHub\\Scrapper-Studyoo\\images\\Raph laurent X Fortnite\\003_81ea4d81.jpg with mimeType image/jpeg\n",
      "C:\\Users\\iroum\\Documents\\GitHub\\Scrapper-Studyoo\\images\\Raph laurent X Fortnite\\004_d1b0b34c.jpg\n",
      "Created file C:\\Users\\iroum\\Documents\\GitHub\\Scrapper-Studyoo\\images\\Raph laurent X Fortnite\\004_d1b0b34c.jpg with mimeType image/jpeg\n"
     ]
    }
   ],
   "source": [
    "#read all folder in images folder\n",
    "from pathlib import Path\n",
    "\n",
    "root = Path(r\"C:\\Users\\iroum\\Documents\\GitHub\\Scrapper-Studyoo\\images\")\n",
    "for x in root.iterdir():\n",
    "    if x.is_dir():\n",
    "        print(x)\n",
    "        #create folder in google drive\n",
    "    \n",
    "        #upload all file in folder\n",
    "        for y in x.iterdir():\n",
    "            if y.is_file():\n",
    "                print(y)\n",
    "                #folder id 1L6c_YP_6khpJ7llLoCchSSl8u-BT2y5E\n",
    "                file = drive.CreateFile({\"parents\": [{\"kind\": \"drive#fileLink\",\"id\": \n",
    "                                                      \"1L6c_YP_6khpJ7llLoCchSSl8u-BT2y5E\"}]})\n",
    "                file.SetContentFile(str(y))\n",
    "                file.Upload()\n",
    "                print('Created file %s with mimeType %s' % (file['title'], file['mimeType']))\n"
   ]
  },
  {
   "cell_type": "code",
   "execution_count": 5,
   "metadata": {},
   "outputs": [
    {
     "name": "stdout",
     "output_type": "stream",
     "text": [
      "{'result': [{'type': 'video', 'id': 'tiiQalXxltI', 'title': 'RALPH LAUREN | Fortnite x Polo Ralph Lauren', 'publishedTime': '6 months ago', 'duration': '0:30', 'viewCount': {'text': '665,031 views', 'short': '665K views'}, 'thumbnails': [{'url': 'https://i.ytimg.com/vi/tiiQalXxltI/hq720.jpg?sqp=-oaymwE2COgCEMoBSFXyq4qpAygIARUAAIhCGAFwAcABBvABAfgB_gmAAtAFigIMCAAQARhlIGUoZTAP&rs=AOn4CLBFa97YjBROCGXuhwsNoaGRizIn9g', 'width': 360, 'height': 202}, {'url': 'https://i.ytimg.com/vi/tiiQalXxltI/hq720.jpg?sqp=-oaymwE2CNAFEJQDSFXyq4qpAygIARUAAIhCGAFwAcABBvABAfgB_gmAAtAFigIMCAAQARhlIGUoZTAP&rs=AOn4CLA8qFrM9uDMS0F8fDVd4D1ZKRRmPw', 'width': 720, 'height': 404}], 'richThumbnail': {'url': 'https://i.ytimg.com/an_webp/tiiQalXxltI/mqdefault_6s.webp?du=3000&sqp=CMLS7qIG&rs=AOn4CLB4EXXJX2PXTjtu54SZ6tPseyAm_g', 'width': 320, 'height': 180}, 'descriptionSnippet': [{'text': 'Presenting our #FortnitexPOLO collaboration. For the first time, these two worlds converge, reinterpreting the timeless style of Polo\\xa0...'}], 'channel': {'name': 'Ralph Lauren', 'id': 'UCWpf8dFplG_k7HTTQBVllsA', 'thumbnails': [{'url': 'https://yt3.ggpht.com/_1ugugfYXQm1icX-BYlrol1bxQ06nbCCTndC4ln21L_BlMbOQhR3yXvfe-PyTKILcCGeQVBY=s68-c-k-c0x00ffffff-no-rj', 'width': 68, 'height': 68}], 'link': 'https://www.youtube.com/channel/UCWpf8dFplG_k7HTTQBVllsA'}, 'accessibility': {'title': 'RALPH LAUREN | Fortnite x Polo Ralph Lauren by Ralph Lauren 6 months ago 30 seconds 665,031 views', 'duration': '30 seconds'}, 'link': 'https://www.youtube.com/watch?v=tiiQalXxltI', 'shelfTitle': None}, {'type': 'video', 'id': 'eAO4IlqCWy0', 'title': 'I Got the New *RENEGADE RAIDER* Early! (Fortnite x Ralph Lauren)', 'publishedTime': 'Streamed 6 months ago', 'duration': '3:51:53', 'viewCount': {'text': '440,360 views', 'short': '440K views'}, 'thumbnails': [{'url': 'https://i.ytimg.com/vi/eAO4IlqCWy0/hq720.jpg?sqp=-oaymwEcCOgCEMoBSFXyq4qpAw4IARUAAIhCGAFwAcABBg==&rs=AOn4CLDnTMGIga5Jk_RE731O02w8ftEpaA', 'width': 360, 'height': 202}, {'url': 'https://i.ytimg.com/vi/eAO4IlqCWy0/hq720.jpg?sqp=-oaymwEcCNAFEJQDSFXyq4qpAw4IARUAAIhCGAFwAcABBg==&rs=AOn4CLBIPkXefK7Ivv70MMWfa4VIq1QiLQ', 'width': 720, 'height': 404}], 'richThumbnail': {'url': 'https://i.ytimg.com/an_webp/eAO4IlqCWy0/mqdefault_6s.webp?du=3000&sqp=CKOl7qIG&rs=AOn4CLA0jnmIBsqX4DMPNqCfr2RYPzMxAQ', 'width': 320, 'height': 180}, 'descriptionSnippet': [{'text': 'Use my Support a Creator code \"TypicalGamer\" in the '}, {'text': 'Fortnite', 'bold': True}, {'text': \" item shop if you'd like to support me for free! Donate!\"}], 'channel': {'name': 'Typical Gamer', 'id': 'UC2wKfjlioOCLP4xQMOWNcgg', 'thumbnails': [{'url': 'https://yt3.ggpht.com/ytc/AGIKgqPNb4fyi1IOPboCmSltOA02LJJ4EnosXL9XsmhIkg=s68-c-k-c0x00ffffff-no-rj', 'width': 68, 'height': 68}], 'link': 'https://www.youtube.com/channel/UC2wKfjlioOCLP4xQMOWNcgg'}, 'accessibility': {'title': 'I Got the New *RENEGADE RAIDER* Early! (Fortnite x Ralph Lauren) by Typical Gamer Streamed 6 months ago 3 hours, 51 minutes 440,360 views', 'duration': '3 hours, 51 minutes, 53 seconds'}, 'link': 'https://www.youtube.com/watch?v=eAO4IlqCWy0', 'shelfTitle': None}]}\n",
      "['https://www.youtube.com/watch?v=tiiQalXxltI', 'https://www.youtube.com/watch?v=eAO4IlqCWy0']\n"
     ]
    }
   ],
   "source": [
    "from youtubesearchpython import VideosSearch\n",
    "\n",
    "videosSearch = VideosSearch('Raph laurent X Fortnite', limit = 2)\n",
    "\n",
    "print(videosSearch.result())\n",
    "#extract url list\n",
    "url_list = []\n",
    "for i in range(0, len(videosSearch.result()[\"result\"])):\n",
    "    url_list.append(videosSearch.result()[\"result\"][i][\"link\"])\n",
    "print(url_list)"
   ]
  }
 ],
 "metadata": {
  "kernelspec": {
   "display_name": "Python 3",
   "language": "python",
   "name": "python3"
  },
  "language_info": {
   "codemirror_mode": {
    "name": "ipython",
    "version": 3
   },
   "file_extension": ".py",
   "mimetype": "text/x-python",
   "name": "python",
   "nbconvert_exporter": "python",
   "pygments_lexer": "ipython3",
   "version": "3.10.7"
  },
  "orig_nbformat": 4
 },
 "nbformat": 4,
 "nbformat_minor": 2
}
